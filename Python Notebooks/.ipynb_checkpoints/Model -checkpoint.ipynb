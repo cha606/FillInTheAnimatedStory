{
 "cells": [
  {
   "cell_type": "code",
   "execution_count": 1,
   "metadata": {},
   "outputs": [],
   "source": [
    "import numpy as np\n",
    "import matplotlib.pyplot as plt\n",
    "%matplotlib notebook\n"
   ]
  },
  {
   "cell_type": "code",
   "execution_count": 2,
   "metadata": {},
   "outputs": [],
   "source": [
    "L = 100\n",
    "W = 100"
   ]
  },
  {
   "cell_type": "code",
   "execution_count": null,
   "metadata": {},
   "outputs": [],
   "source": [
    "#What is the size?\n",
    "#AFTER IMPORT\n",
    "data = \n",
    "print(f\"image size (data.size) \")"
   ]
  },
  {
   "cell_type": "code",
   "execution_count": null,
   "metadata": {},
   "outputs": [],
   "source": [
    "def ConvertImtoNdArray (image):\n",
    "    return image-np.mean(image)/np.std(image)"
   ]
  },
  {
   "cell_type": "code",
   "execution_count": null,
   "metadata": {},
   "outputs": [],
   "source": [
    "class Model:\n",
    "    def __init__(self, x_in, y_in, numConv = 2, tPool=\" max_pool()\", numDense=2, Loss):\n",
    "        assert Loss == L1Loss or Loss == L2Loss  or Loss == CrossEntropyLoss, \"Loss function is unknown!\"\n",
    "        self.\n",
    "    def forwardpass(startingpic[3,L,W], endingpic[3,L,W]):\n",
    "        assert isinstance(startingpic, ndarray), \"The starting image is not an ndarray\"\n",
    "        assert isinstance(endingpic, ndarray), \"The ending image is not an ndarray\"\n",
    "     \n",
    "    def L1Loss(ytruth, ypred):\n",
    "        return np.abs(ytruth- ypred)\n",
    "    def L2Loss(ypred, ytruth):\n",
    "        return((ytruth-ypred)^2)\n",
    "    def CrossEntropyLoss (ytruth, ypred): #Are there different variants?\n",
    "        return (-(ytruth*np.log(ypred) + (1-ytruth)*np.log(1-ypred)))"
   ]
  }
 ],
 "metadata": {
  "kernelspec": {
   "display_name": "Python 3",
   "language": "python",
   "name": "python3"
  },
  "language_info": {
   "codemirror_mode": {
    "name": "ipython",
    "version": 3
   },
   "file_extension": ".py",
   "mimetype": "text/x-python",
   "name": "python",
   "nbconvert_exporter": "python",
   "pygments_lexer": "ipython3",
   "version": "3.7.1"
  }
 },
 "nbformat": 4,
 "nbformat_minor": 2
}
