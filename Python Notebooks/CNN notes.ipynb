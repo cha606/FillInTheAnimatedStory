{
 "cells": [
  {
   "cell_type": "code",
   "execution_count": null,
   "metadata": {},
   "outputs": [],
   "source": [
    "#Padding\n",
    "# zero-pad the images\n",
    "x_train = np.pad(x_train, ((0, 0), (0, 0), (2, 2), (2, 2)), mode=\"constant\")\n",
    "x_test = np.pad(x_test, ((0, 0), (0, 0), (2, 2), (2, 2)), mode=\"constant\")"
   ]
  },
  {
   "cell_type": "code",
   "execution_count": null,
   "metadata": {},
   "outputs": [],
   "source": [
    "#Convert to each PIXEL TO A float32\n",
    "x_train = x_train.astype(np.float32)\n",
    "x_test = x_test.astype(np.float32)"
   ]
  },
  {
   "cell_type": "code",
   "execution_count": null,
   "metadata": {},
   "outputs": [],
   "source": [
    "#normalize data by subtracting the mean and dividing by std"
   ]
  },
  {
   "cell_type": "code",
   "execution_count": null,
   "metadata": {},
   "outputs": [],
   "source": [
    "#Maybe lenet archetecture\n",
    "#CONV -> RELU -> POOL -> CONV -> RELU -> POOL -> FLATTEN -> DENSE -> RELU -> DENSE -> SOFTMAX"
   ]
  },
  {
   "cell_type": "code",
   "execution_count": null,
   "metadata": {},
   "outputs": [],
   "source": [
    "#Layer detail for MINST\n",
    "Layer Details\n",
    "\n",
    "CONV-1: 20 filters, 5x5, stride-1\n",
    "\n",
    "POOL-1: 2x2, stride-2\n",
    "\n",
    "CONV-2: 10 filters, 5x5, stride-1\n",
    "\n",
    "POOL-2: 2x2, stride-2\n",
    "\n",
    "DENSE-3: size-20\n",
    "\n",
    "DENSE-4: size-???\n"
   ]
  },
  {
   "cell_type": "code",
   "execution_count": null,
   "metadata": {},
   "outputs": [],
   "source": [
    "#Example of weight initializer\n",
    "from mynn.initializers.glorot_uniform import glorot_uniform\n",
    "\n",
    "gain = {'gain': np.sqrt(2)}\n",
    "\n",
    "# E.g. initializing a dense layer with glorot-uniform initialization\n",
    "# and a gain of root-2\n",
    "dense(250, 20, \n",
    "      weight_initializer=glorot_uniform, \n",
    "      weight_kwargs=gain)"
   ]
  }
 ],
 "metadata": {
  "kernelspec": {
   "display_name": "Python 3",
   "language": "python",
   "name": "python3"
  },
  "language_info": {
   "codemirror_mode": {
    "name": "ipython",
    "version": 3
   },
   "file_extension": ".py",
   "mimetype": "text/x-python",
   "name": "python",
   "nbconvert_exporter": "python",
   "pygments_lexer": "ipython3",
   "version": "3.7.1"
  }
 },
 "nbformat": 4,
 "nbformat_minor": 2
}
